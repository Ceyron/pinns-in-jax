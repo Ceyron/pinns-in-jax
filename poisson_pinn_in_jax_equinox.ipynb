{
 "cells": [
  {
   "attachments": {},
   "cell_type": "markdown",
   "metadata": {},
   "source": [
    "# Physics-Informed Neural Networks (PINNs) in JAX\n",
    "\n",
    "Simple example of training a PINN in JAX using the Equinox deep learning framework to solve the 1D Poisson equation with homogeneous Dirichlet boundary conditions on the unit interval.\n",
    "\n",
    "$$\n",
    "\\begin{align}\n",
    "    \\frac{\\partial^2 u}{\\partial x^2} &= - f(x), \\quad x \\in (0, 1) \\\\\n",
    "    u(0) &= u(1) = 0\n",
    "\\end{align}\n",
    "$$"
   ]
  },
  {
   "attachments": {},
   "cell_type": "markdown",
   "metadata": {},
   "source": [
    "### What are PINNs and how to train them?\n",
    "\n",
    "A PINN is a **coordinate network** that attempts to approximate the solution to a partial differential equation $\\hat{u}_\\theta(t, x) \\approx u(t, x)$. The network is trained to minimize the residuum of the partial differential equation, the boundary conditions, and the initial conditions (if applicable, here we just have a stationary problem). Hence, it can be data-free; additional supervised reference information is optional. Derivative information is obtained via higher-order input-output automatic differentiation of the neural network.\n",
    "\n",
    "The typical architecture for PINNs are Multi-Layer Perceptrons whose inputs are the position in space $x$ (can be higher dimensional) and time $t$ (if applicable). The output of the network is the solution $\\hat{u}_\\theta(t, x)$ at the given position and time.\n",
    "\n",
    "In our case, the parameters are found by minimizing the following composite loss\n",
    "\n",
    "$$\n",
    "\\theta^* = \\arg\\min_\\theta \\mathcal{L}(\\theta) = \\arg\\min_\\theta \\left( \\mathcal{L}_\\text{PDE}(\\theta) + \\mathcal{L}_\\text{BC}(\\theta) \\right)\n",
    "$$\n",
    "\n",
    "with the PDE residuum given as the **mean squared error of the residual at randomly sampled collocation points inside the domain**\n",
    "\n",
    "$$\n",
    "\\mathcal{L}_\\text{PDE}(\\theta) = \\frac{1}{2L} \\sum_{i=1}^{L} \\left( \\frac{\\partial^2 \\hat{u}_\\theta}{\\partial x^2}\\bigg|_{x=x^{[i]}} + f(x^{[i]}) \\right)^2\n",
    "\\qquad \\text{with} \\qquad\n",
    "x^{[i]} \\sim \\mathcal{U}(0, 1)\n",
    "$$\n",
    "\n",
    "and the boundary conditions given as the **mean squared error of the solution at randomly sampled boundary points** (here we can just use the left and right boundary points)\n",
    "\n",
    "$$\n",
    "\\mathcal{L}_\\text{BC}(\\theta) = \\frac{1}{2} \\left( \\hat{u}_\\theta(0) - 0 \\right)^2 + \\frac{1}{2} \\left( \\hat{u}_\\theta(1) - 0 \\right)^2\n",
    "$$"
   ]
  },
  {
   "attachments": {},
   "cell_type": "markdown",
   "metadata": {},
   "source": [
    "### The part with automatic differentiation\n",
    "\n",
    "The idea of PINNs goes back to works in 90s, but experiences a renaissance due to easily available higher-order autodiff engines in deep learning frameworks.\n",
    "\n",
    "In order to train PINNs to solve PDEs with the highest derivative order being $k$, we need $k+1$ autodiff passes because after the assembly of the loss function, gradient information needs to be backpropagated into the parameter space of the network. We need this information to update the parameters via gradient-based optimizers (like ADAM). In other words, we use the AD engine to then produce $\\frac{\\partial \\mathcal{L}}{\\partial \\theta}$."
   ]
  },
  {
   "attachments": {},
   "cell_type": "markdown",
   "metadata": {},
   "source": [
    "### A reference solution by Finite Differences\n",
    "\n",
    "To check whether the network a learned meaningful solution to the PDE, we use a three-point stencil reference solution.\n",
    "\n",
    "1. Discretize the unit intervale domain into $N+2$ points, but only consider $N$ interior points.\n",
    "2. Solve the linear system of equations $A u = b$ with $A \\in \\mathbb{R}^{N \\times N}$ and $b \\in \\mathbb{R}^N$ with\n",
    "    1. $A$ being due to the three point-stencil (tri-diagonal matrix with $1$ on the off-diagonals and $-2$ on the diagonal, scaled by $\\frac{1}{(\\Delta x)^2}$)\n",
    "    2. $b$ being the right-hand side of the PDE evaluated at the interior points, i.e., $b_i = - f(x_i)$\n",
    "3. Sandwich the boundary conditions to the solution vector $u$ and plot the solution."
   ]
  },
  {
   "attachments": {},
   "cell_type": "markdown",
   "metadata": {},
   "source": [
    "### The concrete scenario\n",
    "\n",
    "We consider a discontinuous right-hand side\n",
    "\n",
    "$$\n",
    "f(x) = \\begin{cases}\n",
    "    1 & \\text{if } x > 0.3 \\land x < 0.5 \\\\\n",
    "    0 & \\text{otherwise}\n",
    "\\end{cases}"
   ]
  },
  {
   "attachments": {},
   "cell_type": "markdown",
   "metadata": {},
   "source": [
    "# Changes in comparison to the YouTube video:\n",
    "\n",
    "1. Use correct `init_key` for initializing the neural network\n",
    "2. Change `N_OPTIMIZATION_EPOCHS` to `10_000`"
   ]
  },
  {
   "cell_type": "code",
   "execution_count": 45,
   "metadata": {},
   "outputs": [],
   "source": [
    "import jax\n",
    "import jax.numpy as jnp\n",
    "import jax.random as jr\n",
    "import equinox as eqx\n",
    "import optax\n",
    "import matplotlib.pyplot as plt"
   ]
  },
  {
   "cell_type": "code",
   "execution_count": 46,
   "metadata": {},
   "outputs": [],
   "source": [
    "N_DOF_FD = 100\n",
    "N_COLLOCATION_POINTS = 50\n",
    "LEARNING_RATE = 1e-3\n",
    "N_OPTIMIZATION_EPOCHS = 10_000\n",
    "BC_LOSS_WEIGHT = 100.0"
   ]
  },
  {
   "cell_type": "code",
   "execution_count": 47,
   "metadata": {},
   "outputs": [],
   "source": [
    "# Reproducibility\n",
    "key = jr.PRNGKey(42)"
   ]
  },
  {
   "cell_type": "code",
   "execution_count": 48,
   "metadata": {},
   "outputs": [],
   "source": [
    "# Our PINN is a coordinate network in the form of a MLP, mapping from scalar to scalar values\n",
    "key, init_key = jr.split(key)\n",
    "pinn = eqx.nn.MLP(\n",
    "    in_size=\"scalar\",\n",
    "    out_size=\"scalar\",\n",
    "    width_size=10,\n",
    "    depth=4,\n",
    "    activation=jax.nn.sigmoid,\n",
    "    key=init_key,\n",
    ")"
   ]
  },
  {
   "cell_type": "code",
   "execution_count": 49,
   "metadata": {},
   "outputs": [
    {
     "data": {
      "text/plain": [
       "Array(-0.68502796, dtype=float32)"
      ]
     },
     "execution_count": 49,
     "metadata": {},
     "output_type": "execute_result"
    }
   ],
   "source": [
    "pinn(0.2)"
   ]
  },
  {
   "cell_type": "code",
   "execution_count": 50,
   "metadata": {},
   "outputs": [],
   "source": [
    "mesh_full = jnp.linspace(0.0, 1.0, N_DOF_FD + 2)"
   ]
  },
  {
   "cell_type": "code",
   "execution_count": 51,
   "metadata": {},
   "outputs": [],
   "source": [
    "mesh_interior = mesh_full[1:-1]"
   ]
  },
  {
   "cell_type": "code",
   "execution_count": 52,
   "metadata": {},
   "outputs": [],
   "source": [
    "rhs_function = lambda x: jnp.where((x > 0.3) & (x < 0.5), 1.0, 0.0)"
   ]
  },
  {
   "cell_type": "code",
   "execution_count": 53,
   "metadata": {},
   "outputs": [],
   "source": [
    "rhs_evaluated = rhs_function(mesh_interior)"
   ]
  },
  {
   "cell_type": "code",
   "execution_count": 54,
   "metadata": {},
   "outputs": [],
   "source": [
    "dx = mesh_interior[1] - mesh_interior[0]\n",
    "A = jnp.diag(jnp.ones(N_DOF_FD - 1), -1) + jnp.diag(jnp.ones(N_DOF_FD - 1), 1) - jnp.diag(2 * jnp.ones(N_DOF_FD), 0)\n",
    "A /= dx**2"
   ]
  },
  {
   "cell_type": "code",
   "execution_count": 55,
   "metadata": {},
   "outputs": [],
   "source": [
    "finite_difference_solution = jnp.linalg.solve(A, -rhs_evaluated)"
   ]
  },
  {
   "cell_type": "code",
   "execution_count": 56,
   "metadata": {},
   "outputs": [],
   "source": [
    "wrap_bc = lambda u: jnp.pad(u, (1, 1), mode=\"constant\")"
   ]
  },
  {
   "cell_type": "code",
   "execution_count": 57,
   "metadata": {},
   "outputs": [
    {
     "data": {
      "image/png": "[encoded data removed]",
      "text/plain": [
       "<Figure size 640x480 with 1 Axes>"
      ]
     },
     "metadata": {},
     "output_type": "display_data"
    }
   ],
   "source": [
    "plt.plot(mesh_full, wrap_bc(rhs_evaluated), label=\"Forcing Function\")\n",
    "plt.plot(mesh_full, wrap_bc(finite_difference_solution), label=\"Finite Difference solution\")\n",
    "plt.plot(mesh_full, jax.vmap(pinn)(mesh_full), label=\"Initial PINN solution\")\n",
    "plt.legend()\n",
    "plt.grid()"
   ]
  },
  {
   "cell_type": "code",
   "execution_count": 58,
   "metadata": {},
   "outputs": [],
   "source": [
    "def pde_residuum(network, x):\n",
    "    return jax.grad(jax.grad(network))(x) + rhs_function(x)"
   ]
  },
  {
   "cell_type": "code",
   "execution_count": 59,
   "metadata": {},
   "outputs": [
    {
     "data": {
      "text/plain": [
       "Array(-2.5913748e-06, dtype=float32, weak_type=True)"
      ]
     },
     "execution_count": 59,
     "metadata": {},
     "output_type": "execute_result"
    }
   ],
   "source": [
    "pde_residuum(pinn, 0.8)"
   ]
  },
  {
   "cell_type": "code",
   "execution_count": 60,
   "metadata": {},
   "outputs": [],
   "source": [
    "key, sampling_key = jr.split(key)\n",
    "collocation_points = jr.uniform(sampling_key, (N_COLLOCATION_POINTS, ), minval=0.0 + 0.001, maxval=1.0 - 0.001)\n",
    "\n",
    "def loss_fn(network):\n",
    "    pde_residuum_at_collocation_points = jax.vmap(pde_residuum, in_axes=(None, 0))(network, collocation_points)\n",
    "    pde_loss_contribution = 0.5 * jnp.mean(jnp.square(pde_residuum_at_collocation_points))\n",
    "\n",
    "    left_bc_residuum = network(0.0) - 0.0\n",
    "    right_bc_residuum = network(1.0) - 0.0\n",
    "    bc_residuum_contribution = 0.5 * jnp.mean(jnp.square(left_bc_residuum)) + 0.5 * jnp.mean(jnp.square(right_bc_residuum))\n",
    "\n",
    "    total_loss = pde_loss_contribution + BC_LOSS_WEIGHT * bc_residuum_contribution\n",
    "\n",
    "    return total_loss"
   ]
  },
  {
   "cell_type": "code",
   "execution_count": 61,
   "metadata": {},
   "outputs": [
    {
     "data": {
      "text/plain": [
       "Array(47.01226, dtype=float32)"
      ]
     },
     "execution_count": 61,
     "metadata": {},
     "output_type": "execute_result"
    }
   ],
   "source": [
    "loss_fn(pinn)"
   ]
  },
  {
   "cell_type": "code",
   "execution_count": 62,
   "metadata": {},
   "outputs": [
    {
     "name": "stdout",
     "output_type": "stream",
     "text": [
      "Epoch: 0, loss: 47.01226043701172\n",
      "Epoch: 100, loss: 0.8580574989318848\n",
      "Epoch: 200, loss: 0.08999805152416229\n",
      "Epoch: 300, loss: 0.08999675512313843\n",
      "Epoch: 400, loss: 0.08999650180339813\n",
      "Epoch: 500, loss: 0.08999619632959366\n",
      "Epoch: 600, loss: 0.0899958610534668\n",
      "Epoch: 700, loss: 0.08999550342559814\n",
      "Epoch: 800, loss: 0.0899951159954071\n",
      "Epoch: 900, loss: 0.08999469131231308\n",
      "Epoch: 1000, loss: 0.08999423682689667\n",
      "Epoch: 1100, loss: 0.08999376744031906\n",
      "Epoch: 1200, loss: 0.08999325335025787\n",
      "Epoch: 1300, loss: 0.0899927169084549\n",
      "Epoch: 1400, loss: 0.08999215066432953\n",
      "Epoch: 1500, loss: 0.08999156206846237\n",
      "Epoch: 1600, loss: 0.08999092876911163\n",
      "Epoch: 1700, loss: 0.0899902731180191\n",
      "Epoch: 1800, loss: 0.08998958021402359\n",
      "Epoch: 1900, loss: 0.08998885750770569\n",
      "Epoch: 2000, loss: 0.08998807519674301\n",
      "Epoch: 2100, loss: 0.08998725563287735\n",
      "Epoch: 2200, loss: 0.0899863913655281\n",
      "Epoch: 2300, loss: 0.08998546749353409\n",
      "Epoch: 2400, loss: 0.0899844840168953\n",
      "Epoch: 2500, loss: 0.08998341113328934\n",
      "Epoch: 2600, loss: 0.08998227119445801\n",
      "Epoch: 2700, loss: 0.08998103439807892\n",
      "Epoch: 2800, loss: 0.08997968584299088\n",
      "Epoch: 2900, loss: 0.08997821062803268\n",
      "Epoch: 3000, loss: 0.08997660130262375\n",
      "Epoch: 3100, loss: 0.08997482806444168\n",
      "Epoch: 3200, loss: 0.08997286856174469\n",
      "Epoch: 3300, loss: 0.0899706557393074\n",
      "Epoch: 3400, loss: 0.08996818959712982\n",
      "Epoch: 3500, loss: 0.08996541053056717\n",
      "Epoch: 3600, loss: 0.08996225148439407\n",
      "Epoch: 3700, loss: 0.08995865285396576\n",
      "Epoch: 3800, loss: 0.08995452523231506\n",
      "Epoch: 3900, loss: 0.08994977921247482\n",
      "Epoch: 4000, loss: 0.0899442583322525\n",
      "Epoch: 4100, loss: 0.08993782103061676\n",
      "Epoch: 4200, loss: 0.08993027359247208\n",
      "Epoch: 4300, loss: 0.08992136269807816\n",
      "Epoch: 4400, loss: 0.08991082012653351\n",
      "Epoch: 4500, loss: 0.08989828079938889\n",
      "Epoch: 4600, loss: 0.08988329768180847\n",
      "Epoch: 4700, loss: 0.0898653119802475\n",
      "Epoch: 4800, loss: 0.08984367549419403\n",
      "Epoch: 4900, loss: 0.08981746435165405\n",
      "Epoch: 5000, loss: 0.08978553861379623\n",
      "Epoch: 5100, loss: 0.08974632620811462\n",
      "Epoch: 5200, loss: 0.08969774097204208\n",
      "Epoch: 5300, loss: 0.08963676542043686\n",
      "Epoch: 5400, loss: 0.08955925703048706\n",
      "Epoch: 5500, loss: 0.08945932984352112\n",
      "Epoch: 5600, loss: 0.0893288254737854\n",
      "Epoch: 5700, loss: 0.08915648609399796\n",
      "Epoch: 5800, loss: 0.08892654627561569\n",
      "Epoch: 5900, loss: 0.0886165052652359\n",
      "Epoch: 6000, loss: 0.08819276094436646\n",
      "Epoch: 6100, loss: 0.08760202676057816\n",
      "Epoch: 6200, loss: 0.08675193041563034\n",
      "Epoch: 6300, loss: 0.0854535773396492\n",
      "Epoch: 6400, loss: 0.08320115506649017\n",
      "Epoch: 6500, loss: 0.07853132486343384\n",
      "Epoch: 6600, loss: 0.06901650875806808\n",
      "Epoch: 6700, loss: 0.0530269555747509\n",
      "Epoch: 6800, loss: 0.03805118054151535\n",
      "Epoch: 6900, loss: 0.031987547874450684\n",
      "Epoch: 7000, loss: 0.02948779985308647\n",
      "Epoch: 7100, loss: 0.02781803160905838\n",
      "Epoch: 7200, loss: 0.026349671185016632\n",
      "Epoch: 7300, loss: 0.02487153559923172\n",
      "Epoch: 7400, loss: 0.023290695622563362\n",
      "Epoch: 7500, loss: 0.021622132509946823\n",
      "Epoch: 7600, loss: 0.019978314638137817\n",
      "Epoch: 7700, loss: 0.01843317039310932\n",
      "Epoch: 7800, loss: 0.016949016600847244\n",
      "Epoch: 7900, loss: 0.015463732182979584\n",
      "Epoch: 8000, loss: 0.01393019501119852\n",
      "Epoch: 8100, loss: 0.01232096366584301\n",
      "Epoch: 8200, loss: 0.010657898150384426\n",
      "Epoch: 8300, loss: 0.009047052823007107\n",
      "Epoch: 8400, loss: 0.007672507781535387\n",
      "Epoch: 8500, loss: 0.00668884115293622\n",
      "Epoch: 8600, loss: 0.006090256851166487\n",
      "Epoch: 8700, loss: 0.005749566946178675\n",
      "Epoch: 8800, loss: 0.005556473974138498\n",
      "Epoch: 8900, loss: 0.0054466878063976765\n",
      "Epoch: 9000, loss: 0.005383532028645277\n",
      "Epoch: 9100, loss: 0.005345368292182684\n",
      "Epoch: 9200, loss: 0.005319844000041485\n",
      "Epoch: 9300, loss: 0.005300417542457581\n",
      "Epoch: 9400, loss: 0.005284121260046959\n",
      "Epoch: 9500, loss: 0.005269498564302921\n",
      "Epoch: 9600, loss: 0.005256093107163906\n",
      "Epoch: 9700, loss: 0.0052435314282774925\n",
      "Epoch: 9800, loss: 0.005231547635048628\n",
      "Epoch: 9900, loss: 0.005220117978751659\n"
     ]
    }
   ],
   "source": [
    "# Training loop\n",
    "optimizer = optax.adam(LEARNING_RATE)\n",
    "opt_state = optimizer.init(eqx.filter(pinn, eqx.is_array))\n",
    "\n",
    "@eqx.filter_jit\n",
    "def make_step(network, state):\n",
    "    loss, grad = eqx.filter_value_and_grad(loss_fn)(network)\n",
    "    updates, new_state = optimizer.update(grad, state, network)\n",
    "    new_network = eqx.apply_updates(network, updates)\n",
    "    return new_network, new_state, loss\n",
    "\n",
    "loss_history = []\n",
    "for epoch in range(N_OPTIMIZATION_EPOCHS):\n",
    "    pinn, opt_state, loss = make_step(pinn, opt_state)\n",
    "    loss_history.append(loss)\n",
    "    if epoch % 100 == 0:\n",
    "        print(f\"Epoch: {epoch}, loss: {loss}\")"
   ]
  },
  {
   "cell_type": "code",
   "execution_count": 63,
   "metadata": {},
   "outputs": [
    {
     "data": {
      "image/png": "[encoded data removed]",
      "text/plain": [
       "<Figure size 640x480 with 1 Axes>"
      ]
     },
     "metadata": {},
     "output_type": "display_data"
    }
   ],
   "source": [
    "plt.plot(loss_history)\n",
    "plt.yscale(\"log\")"
   ]
  },
  {
   "cell_type": "code",
   "execution_count": 64,
   "metadata": {},
   "outputs": [
    {
     "data": {
      "image/png": "[encoded data removed]",
      "text/plain": [
       "<Figure size 640x480 with 1 Axes>"
      ]
     },
     "metadata": {},
     "output_type": "display_data"
    }
   ],
   "source": [
    "plt.plot(mesh_full, wrap_bc(finite_difference_solution), label=\"Finite Difference solution\")\n",
    "plt.plot(mesh_full, jax.vmap(pinn)(mesh_full), label=\"Final PINN solution\")\n",
    "plt.legend()\n",
    "plt.grid()"
   ]
  },
  {
   "cell_type": "code",
   "execution_count": 65,
   "metadata": {},
   "outputs": [
    {
     "data": {
      "text/plain": [
       "Array(0.0417731, dtype=float32)"
      ]
     },
     "execution_count": 65,
     "metadata": {},
     "output_type": "execute_result"
    }
   ],
   "source": [
    "pinn(0.33)"
   ]
  },
  {
   "cell_type": "code",
   "execution_count": 66,
   "metadata": {},
   "outputs": [
    {
     "data": {
      "text/plain": [
       "Array(0.09539172, dtype=float32, weak_type=True)"
      ]
     },
     "execution_count": 66,
     "metadata": {},
     "output_type": "execute_result"
    }
   ],
   "source": [
    "jax.grad(pinn)(0.33)"
   ]
  },
  {
   "cell_type": "code",
   "execution_count": null,
   "metadata": {},
   "outputs": [],
   "source": []
  }
 ],
 "metadata": {
  "kernelspec": {
   "display_name": "base",
   "language": "python",
   "name": "python3"
  },
  "language_info": {
   "codemirror_mode": {
    "name": "ipython",
    "version": 3
   },
   "file_extension": ".py",
   "mimetype": "text/x-python",
   "name": "python",
   "nbconvert_exporter": "python",
   "pygments_lexer": "ipython3",
   "version": "3.10.9"
  },
  "orig_nbformat": 4,
  "vscode": {
   "interpreter": {
    "hash": "265371ff1b98b9f4eaa16d44fb1eb5bb5e02f4557e1c68186d1d500959ccd159"
   }
  }
 },
 "nbformat": 4,
 "nbformat_minor": 2
}
